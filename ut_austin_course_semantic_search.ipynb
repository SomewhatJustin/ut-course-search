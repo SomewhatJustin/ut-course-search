{
  "cells": [
    {
      "cell_type": "markdown",
      "metadata": {
        "id": "view-in-github",
        "colab_type": "text"
      },
      "source": [
        "<a href=\"https://colab.research.google.com/github/SomewhatJustin/ut-course-search/blob/main/ut_austin_course_semantic_search.ipynb\" target=\"_parent\"><img src=\"https://colab.research.google.com/assets/colab-badge.svg\" alt=\"Open In Colab\"/></a>"
      ]
    },
    {
      "cell_type": "code",
      "execution_count": null,
      "metadata": {
        "colab": {
          "base_uri": "https://localhost:8080/"
        },
        "id": "axd7o8e34w3z",
        "outputId": "4cd45f15-5f4e-426e-9cb4-e86bad5b7e2c"
      },
      "outputs": [
        {
          "output_type": "stream",
          "name": "stdout",
          "text": [
            "Requirement already satisfied: protobuf<4.21 in /usr/local/lib/python3.10/dist-packages (3.19.3)\n"
          ]
        }
      ],
      "source": [
        "# First, install a compatible version of protobuf\n",
        "!pip install \"protobuf<4.21\"\n",
        "\n",
        "# Then, install the other packages\n",
        "!pip install -qU \\\n",
        "  \"pinecone-client[grpc]\"==2.2.1 \\\n",
        "  datasets==2.12.0 \\\n",
        "  sentence-transformers==2.2.2\n",
        "\n"
      ]
    },
    {
      "cell_type": "code",
      "execution_count": null,
      "metadata": {
        "colab": {
          "base_uri": "https://localhost:8080/"
        },
        "id": "wwKYmv8v8iIG",
        "outputId": "82d7f424-a3c9-44a2-893f-69a58a31d359"
      },
      "outputs": [
        {
          "output_type": "stream",
          "name": "stderr",
          "text": [
            "WARNING:datasets.builder:Found cached dataset csv (/root/.cache/huggingface/datasets/ganoot___csv/ganoot--ut-courses-96e71ea60987de22/0.0.0/6954658bab30a358235fa864b05cf819af0e179325c740e4bc853bcc7ec513e1)\n"
          ]
        },
        {
          "output_type": "execute_result",
          "data": {
            "text/plain": [
              "Dataset({\n",
              "    features: ['Course Code', 'Course Name', 'Description'],\n",
              "    num_rows: 10675\n",
              "})"
            ]
          },
          "metadata": {},
          "execution_count": 25
        }
      ],
      "source": [
        "from datasets import load_dataset\n",
        "\n",
        "dataset = load_dataset(\"ganoot/ut-courses\", split='train')\n",
        "dataset"
      ]
    },
    {
      "cell_type": "code",
      "execution_count": null,
      "metadata": {
        "colab": {
          "base_uri": "https://localhost:8080/"
        },
        "id": "OrNzKe5m82uo",
        "outputId": "3c764fd0-eb38-4768-d651-7bca03830b24"
      },
      "outputs": [
        {
          "output_type": "execute_result",
          "data": {
            "text/plain": [
              "{'Course Code': ['A I 388', 'A I 388U', 'A I 389L', 'A I 391L', 'A I 394D'],\n",
              " 'Course Name': ['Natural Language Processing.',\n",
              "  'Planning, Search, and Reasoning Under Uncertainty.',\n",
              "  'Automated Logical Reasoning.',\n",
              "  'Machine Learning.',\n",
              "  'Deep Learning.'],\n",
              " 'Description': ['Explore computational methods for syntactic and semantic analysis of structures representing meanings of natural language; study of current natural language processing systems; methods for computing outlines and discourse structures of descriptive text. Three lecture hours a week for one semester. Artificial Intelligence 388 and Computer Science 388 may not both be counted. Prerequisite: Graduate standing, and a course in artificial intelligence or consent of instructor.',\n",
              "  'Introduction to three key foundational problems in AI: planning, search, and reasoning under uncertainty. Investigate how to define planning domains, including representations for world states and actions, covering both symbolic and path planning. Study algorithms to efficiently find valid plans with or without optimality, and partially ordered, or fully specified solutions. Three lecture hours a week for one semester Only one of the following may be counted: Artificial Intelligence 388U, Computer Science 388U, 395T (Topic: Planning Search and Reasoning). Prerequisite: Graduate standing; and knowledge of undergraduate data structures, algorithms, and complexity; and prior knowledge in probability theory or statistics.',\n",
              "  'Explore automated reasoning techniques for propositional logic, first-order logic, linear arithmetic over reals and integers, theory of uninterpreted functions, and combinations of these theories. Examine automated logical reasoning both from a theoretical and practical perspective, including building useful tools, such as SAT and SMT solvers. Three lecture hours a week for one semester. Only one of the following may be counted: Computer Science 389L, 395T (Topic: Automated Logical Reasoning), Artificial Intelligence 389L. Prerequisite: Graduate standing.',\n",
              "  'Explore computing systems that automatically improve their performance with experience, including various approaches to inductive classification such as version space, decision tree, rule-based, neural network, Bayesian, and instance-based methods; as well as computational learning theory, explanation-based learning, and knowledge refinement. Three lecture hours a week for one semester. Only one of the following may be counted: Artificial Intelligence 391L, Computer Science 391L, Data Science 391L. Prerequisite: Graduate standing, and Computer Science 381K or equivalent knowledge of artificial intelligence and LISP.',\n",
              "  'Explore the basic building blocks and intuitions behind designing, training, tuning, and monitoring of deep networks. Examine both the theory of deep learning, as well as hands-on implementation sessions in pytorch. Explore a series of application areas of deep networks in: computer vision, sequence modeling in natural language processing, deep reinforcement learning, generative modeling, and adversarial learning. Three lecture hours a week for one semester. Only one of the following may be counted: Artificial Intelligence 394D, Computer Science 394D, Data Science 394D, 395T (Topic: Deep Learning). Prerequisite: Graduate standing, and experience in artificial intelligence and machine learning.']}"
            ]
          },
          "metadata": {},
          "execution_count": 26
        }
      ],
      "source": [
        "dataset[:5]"
      ]
    },
    {
      "cell_type": "code",
      "execution_count": null,
      "metadata": {
        "colab": {
          "base_uri": "https://localhost:8080/"
        },
        "id": "I6glGHnJ9Uk_",
        "outputId": "6e990cd1-e01b-4e43-fdf7-f23845020216"
      },
      "outputs": [
        {
          "output_type": "stream",
          "name": "stdout",
          "text": [
            "A I 388 - Natural Language Processing. - Explore computational methods for syntactic and semantic analysis of structures representing meanings of natural language; study of current natural language processing systems; methods for computing outlines and discourse structures of descriptive text. Three lecture hours a week for one semester. Artificial Intelligence 388 and Computer Science 388 may not both be counted. Prerequisite: Graduate standing, and a course in artificial intelligence or consent of instructor.\n",
            "A I 388U - Planning, Search, and Reasoning Under Uncertainty. - Introduction to three key foundational problems in AI: planning, search, and reasoning under uncertainty. Investigate how to define planning domains, including representations for world states and actions, covering both symbolic and path planning. Study algorithms to efficiently find valid plans with or without optimality, and partially ordered, or fully specified solutions. Three lecture hours a week for one semester Only one of the following may be counted: Artificial Intelligence 388U, Computer Science 388U, 395T (Topic: Planning Search and Reasoning). Prerequisite: Graduate standing; and knowledge of undergraduate data structures, algorithms, and complexity; and prior knowledge in probability theory or statistics.\n",
            "A I 389L - Automated Logical Reasoning. - Explore automated reasoning techniques for propositional logic, first-order logic, linear arithmetic over reals and integers, theory of uninterpreted functions, and combinations of these theories. Examine automated logical reasoning both from a theoretical and practical perspective, including building useful tools, such as SAT and SMT solvers. Three lecture hours a week for one semester. Only one of the following may be counted: Computer Science 389L, 395T (Topic: Automated Logical Reasoning), Artificial Intelligence 389L. Prerequisite: Graduate standing.\n",
            "A I 391L - Machine Learning. - Explore computing systems that automatically improve their performance with experience, including various approaches to inductive classification such as version space, decision tree, rule-based, neural network, Bayesian, and instance-based methods; as well as computational learning theory, explanation-based learning, and knowledge refinement. Three lecture hours a week for one semester. Only one of the following may be counted: Artificial Intelligence 391L, Computer Science 391L, Data Science 391L. Prerequisite: Graduate standing, and Computer Science 381K or equivalent knowledge of artificial intelligence and LISP.\n",
            "A I 394D - Deep Learning. - Explore the basic building blocks and intuitions behind designing, training, tuning, and monitoring of deep networks. Examine both the theory of deep learning, as well as hands-on implementation sessions in pytorch. Explore a series of application areas of deep networks in: computer vision, sequence modeling in natural language processing, deep reinforcement learning, generative modeling, and adversarial learning. Three lecture hours a week for one semester. Only one of the following may be counted: Artificial Intelligence 394D, Computer Science 394D, Data Science 394D, 395T (Topic: Deep Learning). Prerequisite: Graduate standing, and experience in artificial intelligence and machine learning.\n"
          ]
        }
      ],
      "source": [
        "# Initialize an empty list to store the concatenated course information\n",
        "courses = []\n",
        "\n",
        "def truncate_to_tokens(text, max_tokens):\n",
        "    \"\"\"\n",
        "    Truncate the text to the specified maximum number of tokens.\n",
        "    :param text: Input text string.\n",
        "    :param max_tokens: Maximum number of tokens allowed.\n",
        "    :return: Truncated text.\n",
        "    \"\"\"\n",
        "    tokens = text.split()  # Split the text into tokens (words)\n",
        "    truncated_tokens = tokens[:max_tokens]  # Keep only the first 'max_tokens' tokens\n",
        "    return ' '.join(truncated_tokens)  # Join the tokens back into a string\n",
        "\n",
        "\n",
        "# Iterate through each record in the dataset\n",
        "for record in dataset:\n",
        "    # Concatenate the course code, course name, and description\n",
        "    course_info = f\"{record['Course Code']} - {record['Course Name']} - {record['Description']}\"\n",
        "    course_info = truncate_to_tokens(course_info, 250)\n",
        "\n",
        "    # Add the concatenated string to the courses list\n",
        "    courses.append(course_info)\n",
        "\n",
        "# Now, 'courses' contains each course as a single string\n",
        "# Here's a print statement to display the first 5 courses\n",
        "for course in courses[:5]:\n",
        "    print(course)"
      ]
    },
    {
      "cell_type": "code",
      "execution_count": null,
      "metadata": {
        "colab": {
          "base_uri": "https://localhost:8080/"
        },
        "id": "gh1_ZpKZ_4ne",
        "outputId": "7712dd41-0ba3-40d6-a7e2-41672da14959"
      },
      "outputs": [
        {
          "output_type": "execute_result",
          "data": {
            "text/plain": [
              "SentenceTransformer(\n",
              "  (0): Transformer({'max_seq_length': 256, 'do_lower_case': False}) with Transformer model: BertModel \n",
              "  (1): Pooling({'word_embedding_dimension': 384, 'pooling_mode_cls_token': False, 'pooling_mode_mean_tokens': True, 'pooling_mode_max_tokens': False, 'pooling_mode_mean_sqrt_len_tokens': False})\n",
              "  (2): Normalize()\n",
              ")"
            ]
          },
          "metadata": {},
          "execution_count": 28
        }
      ],
      "source": [
        "from sentence_transformers import SentenceTransformer\n",
        "import torch\n",
        "\n",
        "device = 'cuda' if torch.cuda.is_available() else 'cpu'\n",
        "if device != 'cuda':\n",
        "    print(f\"You are using {device}. This is much slower than using \"\n",
        "          \"a CUDA-enabled GPU. If on Colab you can change this by \"\n",
        "          \"clicking Runtime > Change runtime type > GPU.\")\n",
        "\n",
        "model = SentenceTransformer('all-MiniLM-L6-v2', device=device)\n",
        "model"
      ]
    },
    {
      "cell_type": "code",
      "execution_count": null,
      "metadata": {
        "colab": {
          "base_uri": "https://localhost:8080/"
        },
        "id": "tR8zjNwND_87",
        "outputId": "3ed9bb8a-0206-413d-9a6b-43516b0942f8"
      },
      "outputs": [
        {
          "output_type": "execute_result",
          "data": {
            "text/plain": [
              "(384,)"
            ]
          },
          "metadata": {},
          "execution_count": 29
        }
      ],
      "source": [
        "query = 'python for data science'\n",
        "\n",
        "xq = model.encode(query)\n",
        "xq.shape"
      ]
    },
    {
      "cell_type": "code",
      "execution_count": null,
      "metadata": {
        "id": "OPPu0-UzEG4U"
      },
      "outputs": [],
      "source": [
        "_id = '0'\n",
        "metadata = {'text': query}\n",
        "\n",
        "vectors = [(_id, xq, metadata)]"
      ]
    },
    {
      "cell_type": "code",
      "execution_count": null,
      "metadata": {
        "id": "IaVwH4WfFtCb"
      },
      "outputs": [],
      "source": [
        "import os\n",
        "\n",
        "if 'PINECONE_API_KEY' not in os.environ:\n",
        "    os.environ['PINECONE_API_KEY'] = input(\"Enter Pinecone API Key: \")\n",
        "if 'PINECONE_ENVIRONMENT' not in os.environ:\n",
        "    os.environ['PINECONE_ENVIRONMENT'] = input(\"Enter Pinecone Environment: \")\n"
      ]
    },
    {
      "cell_type": "code",
      "execution_count": null,
      "metadata": {
        "id": "GNnLndj0EOAW"
      },
      "outputs": [],
      "source": [
        "import os\n",
        "import pinecone\n",
        "\n",
        "# get api key from app.pinecone.io\n",
        "api_key = os.environ.get('PINECONE_API_KEY') or 'PINECONE_API_KEY'\n",
        "# find your environment next to the api key in pinecone console\n",
        "env = os.environ.get('PINECONE_ENVIRONMENT') or 'PINECONE_ENVIRONMENT'\n",
        "\n",
        "pinecone.init(\n",
        "    api_key=api_key,\n",
        "    environment=env\n",
        ")"
      ]
    },
    {
      "cell_type": "code",
      "execution_count": null,
      "metadata": {
        "id": "l4gd4YRyEtSZ"
      },
      "outputs": [],
      "source": [
        "index_name = 'semantic-search'"
      ]
    },
    {
      "cell_type": "code",
      "execution_count": null,
      "metadata": {
        "id": "WmQ3rUsdEv8b"
      },
      "outputs": [],
      "source": [
        "# only create index if it doesn't exist\n",
        "if index_name not in pinecone.list_indexes():\n",
        "    pinecone.create_index(\n",
        "        name=index_name,\n",
        "        dimension=model.get_sentence_embedding_dimension(),\n",
        "        metric='cosine'\n",
        "    )\n",
        "\n",
        "# now connect to the index\n",
        "index = pinecone.GRPCIndex(index_name)"
      ]
    },
    {
      "cell_type": "code",
      "execution_count": null,
      "metadata": {
        "colab": {
          "base_uri": "https://localhost:8080/",
          "height": 118,
          "referenced_widgets": [
            "50ad8af2b02f4ba0a4e973c8a2d546dd",
            "6538cc2504d04fdaa2f170399c0c491a",
            "1a0fa0e830ee42a18b1e4133958708b3",
            "616207278518412ea42c19499c3d33e3",
            "19ad9a9ac302481cbdff8106f7f788e5",
            "0c32ccd8fa3940b6b6d7d94b48450fd8",
            "9999d6765bbe44cbbc8334bc823117a6",
            "6391443fa5af4716aaa96660b6d41f57",
            "62fd6bb112ae4bea9914bf38c5852674",
            "dcac9dd9f7b6455f896a6c1be87918f2",
            "9207df9de3724f0aa043ab63c8c976ba"
          ]
        },
        "id": "UGQ60BBvF8rT",
        "outputId": "93979689-d337-4374-dadd-9092e98f207b"
      },
      "outputs": [
        {
          "output_type": "display_data",
          "data": {
            "text/plain": [
              "  0%|          | 0/84 [00:00<?, ?it/s]"
            ],
            "application/vnd.jupyter.widget-view+json": {
              "version_major": 2,
              "version_minor": 0,
              "model_id": "50ad8af2b02f4ba0a4e973c8a2d546dd"
            }
          },
          "metadata": {}
        },
        {
          "output_type": "execute_result",
          "data": {
            "text/plain": [
              "{'dimension': 384,\n",
              " 'index_fullness': 0.10496,\n",
              " 'namespaces': {'': {'vector_count': 10496}},\n",
              " 'total_vector_count': 10496}"
            ]
          },
          "metadata": {},
          "execution_count": 35
        }
      ],
      "source": [
        "from tqdm.auto import tqdm\n",
        "\n",
        "batch_size = 128\n",
        "vector_limit = 100000\n",
        "\n",
        "courses = courses[:vector_limit]\n",
        "\n",
        "for i in tqdm(range(0, len(courses), batch_size)):\n",
        "    # find end of batch\n",
        "    i_end = min(i+batch_size, len(courses))\n",
        "    # create IDs batch\n",
        "    ids = [str(x) for x in range(i, i_end)]\n",
        "    # create metadata batch\n",
        "    metadatas = [{'text': text} for text in courses[i:i_end]]\n",
        "    # create embeddings\n",
        "    xc = model.encode(courses[i:i_end])\n",
        "    # create records list for upsert\n",
        "    records = zip(ids, xc, metadatas)\n",
        "    # upsert to Pinecone\n",
        "    index.upsert(vectors=records)\n",
        "\n",
        "# check number of records in the index\n",
        "index.describe_index_stats()"
      ]
    },
    {
      "cell_type": "code",
      "source": [
        "query = \"history of weapons of mass descruction\"\n",
        "\n",
        "# create the query vector\n",
        "xq = model.encode(query).tolist()\n",
        "\n",
        "# now query\n",
        "xc = index.query(xq, top_k=5, include_metadata=True)\n",
        "\n",
        "for result in xc['matches']:\n",
        "    print(f\"{round(result['score'], 2)}: {result['metadata']['text']}\")"
      ],
      "metadata": {
        "colab": {
          "base_uri": "https://localhost:8080/"
        },
        "id": "9bnXxHpdIxT5",
        "outputId": "01699d5e-2abe-4573-c7ed-b86a756a4ef6"
      },
      "execution_count": null,
      "outputs": [
        {
          "output_type": "stream",
          "name": "stdout",
          "text": [
            "0.42: M S 304 - American Military History: 1775 to Present. - Covers development of American Profession of Arms from a \"dual military tradition\" evaluating military leadership at the tactical, operational, and strategic levels of war. Explores ways in which Industrial Revolution transformed the United States and other societies organized armed violence. Three lecture hours a week for one semester.\n",
            "0.41: N S 326 - Evolution of Warfare. - Explores the forms of warfare employed by great leaders in history as they relate to the evolution of warfare. Three lecture hours a week for one semester. Prerequisite: Consent of instructor.\n",
            "0.39: HIS 361J - Medieval Warfare. - Examine the development of warfare between the late Roman Empire and the early modern world (c. 400-1500), including a brief retrospective on war in the ancient world. Three lecture hours a week for one semester. Only one of the following may be counted: History 361J, 362K (Topic: Medieval Warfare), 362K (Topic 1). Prerequisite: Upper division standing.\n",
            "0.38: HIS 349S - Survey of Military History, 1640 to 1900. - An investigation of world military systems and of the evolution of military technology from about the time of the Thirty Years' War to the end of the nineteenth century. Three lecture hours a week for one semester. Prerequisite: Upper-division standing.\n",
            "0.37: HIS 329P - History of the Atomic Bomb. - The development, use, and influence of nuclear weapons from the 1930s to 1954. Three lecture hours a week for one semester. Prerequisite: Upper-division standing.\n"
          ]
        }
      ]
    },
    {
      "cell_type": "code",
      "source": [
        "\n"
      ],
      "metadata": {
        "colab": {
          "base_uri": "https://localhost:8080/"
        },
        "id": "eVAIaVxMJMyA",
        "outputId": "cf687e85-3d38-4c47-a174-9c038cc5a64a"
      },
      "execution_count": null,
      "outputs": [
        {
          "output_type": "stream",
          "name": "stdout",
          "text": [
            "0.42: M S 304 - American Military History: 1775 to Present. - Covers development of American Profession of Arms from a \"dual military tradition\" evaluating military leadership at the tactical, operational, and strategic levels of war. Explores ways in which Industrial Revolution transformed the United States and other societies organized armed violence. Three lecture hours a week for one semester.\n",
            "0.41: N S 326 - Evolution of Warfare. - Explores the forms of warfare employed by great leaders in history as they relate to the evolution of warfare. Three lecture hours a week for one semester. Prerequisite: Consent of instructor.\n",
            "0.39: HIS 361J - Medieval Warfare. - Examine the development of warfare between the late Roman Empire and the early modern world (c. 400-1500), including a brief retrospective on war in the ancient world. Three lecture hours a week for one semester. Only one of the following may be counted: History 361J, 362K (Topic: Medieval Warfare), 362K (Topic 1). Prerequisite: Upper division standing.\n",
            "0.38: HIS 349S - Survey of Military History, 1640 to 1900. - An investigation of world military systems and of the evolution of military technology from about the time of the Thirty Years' War to the end of the nineteenth century. Three lecture hours a week for one semester. Prerequisite: Upper-division standing.\n",
            "0.37: HIS 329P - History of the Atomic Bomb. - The development, use, and influence of nuclear weapons from the 1930s to 1954. Three lecture hours a week for one semester. Prerequisite: Upper-division standing.\n"
          ]
        }
      ]
    }
  ],
  "metadata": {
    "accelerator": "GPU",
    "colab": {
      "provenance": [],
      "authorship_tag": "ABX9TyMjN7w20Nt0H+J/ITy2OvM/",
      "include_colab_link": true
    },
    "kernelspec": {
      "display_name": "Python 3",
      "name": "python3"
    },
    "language_info": {
      "name": "python"
    },
    "widgets": {
      "application/vnd.jupyter.widget-state+json": {
        "50ad8af2b02f4ba0a4e973c8a2d546dd": {
          "model_module": "@jupyter-widgets/controls",
          "model_name": "HBoxModel",
          "model_module_version": "1.5.0",
          "state": {
            "_dom_classes": [],
            "_model_module": "@jupyter-widgets/controls",
            "_model_module_version": "1.5.0",
            "_model_name": "HBoxModel",
            "_view_count": null,
            "_view_module": "@jupyter-widgets/controls",
            "_view_module_version": "1.5.0",
            "_view_name": "HBoxView",
            "box_style": "",
            "children": [
              "IPY_MODEL_6538cc2504d04fdaa2f170399c0c491a",
              "IPY_MODEL_1a0fa0e830ee42a18b1e4133958708b3",
              "IPY_MODEL_616207278518412ea42c19499c3d33e3"
            ],
            "layout": "IPY_MODEL_19ad9a9ac302481cbdff8106f7f788e5"
          }
        },
        "6538cc2504d04fdaa2f170399c0c491a": {
          "model_module": "@jupyter-widgets/controls",
          "model_name": "HTMLModel",
          "model_module_version": "1.5.0",
          "state": {
            "_dom_classes": [],
            "_model_module": "@jupyter-widgets/controls",
            "_model_module_version": "1.5.0",
            "_model_name": "HTMLModel",
            "_view_count": null,
            "_view_module": "@jupyter-widgets/controls",
            "_view_module_version": "1.5.0",
            "_view_name": "HTMLView",
            "description": "",
            "description_tooltip": null,
            "layout": "IPY_MODEL_0c32ccd8fa3940b6b6d7d94b48450fd8",
            "placeholder": "​",
            "style": "IPY_MODEL_9999d6765bbe44cbbc8334bc823117a6",
            "value": "100%"
          }
        },
        "1a0fa0e830ee42a18b1e4133958708b3": {
          "model_module": "@jupyter-widgets/controls",
          "model_name": "FloatProgressModel",
          "model_module_version": "1.5.0",
          "state": {
            "_dom_classes": [],
            "_model_module": "@jupyter-widgets/controls",
            "_model_module_version": "1.5.0",
            "_model_name": "FloatProgressModel",
            "_view_count": null,
            "_view_module": "@jupyter-widgets/controls",
            "_view_module_version": "1.5.0",
            "_view_name": "ProgressView",
            "bar_style": "success",
            "description": "",
            "description_tooltip": null,
            "layout": "IPY_MODEL_6391443fa5af4716aaa96660b6d41f57",
            "max": 84,
            "min": 0,
            "orientation": "horizontal",
            "style": "IPY_MODEL_62fd6bb112ae4bea9914bf38c5852674",
            "value": 84
          }
        },
        "616207278518412ea42c19499c3d33e3": {
          "model_module": "@jupyter-widgets/controls",
          "model_name": "HTMLModel",
          "model_module_version": "1.5.0",
          "state": {
            "_dom_classes": [],
            "_model_module": "@jupyter-widgets/controls",
            "_model_module_version": "1.5.0",
            "_model_name": "HTMLModel",
            "_view_count": null,
            "_view_module": "@jupyter-widgets/controls",
            "_view_module_version": "1.5.0",
            "_view_name": "HTMLView",
            "description": "",
            "description_tooltip": null,
            "layout": "IPY_MODEL_dcac9dd9f7b6455f896a6c1be87918f2",
            "placeholder": "​",
            "style": "IPY_MODEL_9207df9de3724f0aa043ab63c8c976ba",
            "value": " 84/84 [00:58&lt;00:00,  1.82it/s]"
          }
        },
        "19ad9a9ac302481cbdff8106f7f788e5": {
          "model_module": "@jupyter-widgets/base",
          "model_name": "LayoutModel",
          "model_module_version": "1.2.0",
          "state": {
            "_model_module": "@jupyter-widgets/base",
            "_model_module_version": "1.2.0",
            "_model_name": "LayoutModel",
            "_view_count": null,
            "_view_module": "@jupyter-widgets/base",
            "_view_module_version": "1.2.0",
            "_view_name": "LayoutView",
            "align_content": null,
            "align_items": null,
            "align_self": null,
            "border": null,
            "bottom": null,
            "display": null,
            "flex": null,
            "flex_flow": null,
            "grid_area": null,
            "grid_auto_columns": null,
            "grid_auto_flow": null,
            "grid_auto_rows": null,
            "grid_column": null,
            "grid_gap": null,
            "grid_row": null,
            "grid_template_areas": null,
            "grid_template_columns": null,
            "grid_template_rows": null,
            "height": null,
            "justify_content": null,
            "justify_items": null,
            "left": null,
            "margin": null,
            "max_height": null,
            "max_width": null,
            "min_height": null,
            "min_width": null,
            "object_fit": null,
            "object_position": null,
            "order": null,
            "overflow": null,
            "overflow_x": null,
            "overflow_y": null,
            "padding": null,
            "right": null,
            "top": null,
            "visibility": null,
            "width": null
          }
        },
        "0c32ccd8fa3940b6b6d7d94b48450fd8": {
          "model_module": "@jupyter-widgets/base",
          "model_name": "LayoutModel",
          "model_module_version": "1.2.0",
          "state": {
            "_model_module": "@jupyter-widgets/base",
            "_model_module_version": "1.2.0",
            "_model_name": "LayoutModel",
            "_view_count": null,
            "_view_module": "@jupyter-widgets/base",
            "_view_module_version": "1.2.0",
            "_view_name": "LayoutView",
            "align_content": null,
            "align_items": null,
            "align_self": null,
            "border": null,
            "bottom": null,
            "display": null,
            "flex": null,
            "flex_flow": null,
            "grid_area": null,
            "grid_auto_columns": null,
            "grid_auto_flow": null,
            "grid_auto_rows": null,
            "grid_column": null,
            "grid_gap": null,
            "grid_row": null,
            "grid_template_areas": null,
            "grid_template_columns": null,
            "grid_template_rows": null,
            "height": null,
            "justify_content": null,
            "justify_items": null,
            "left": null,
            "margin": null,
            "max_height": null,
            "max_width": null,
            "min_height": null,
            "min_width": null,
            "object_fit": null,
            "object_position": null,
            "order": null,
            "overflow": null,
            "overflow_x": null,
            "overflow_y": null,
            "padding": null,
            "right": null,
            "top": null,
            "visibility": null,
            "width": null
          }
        },
        "9999d6765bbe44cbbc8334bc823117a6": {
          "model_module": "@jupyter-widgets/controls",
          "model_name": "DescriptionStyleModel",
          "model_module_version": "1.5.0",
          "state": {
            "_model_module": "@jupyter-widgets/controls",
            "_model_module_version": "1.5.0",
            "_model_name": "DescriptionStyleModel",
            "_view_count": null,
            "_view_module": "@jupyter-widgets/base",
            "_view_module_version": "1.2.0",
            "_view_name": "StyleView",
            "description_width": ""
          }
        },
        "6391443fa5af4716aaa96660b6d41f57": {
          "model_module": "@jupyter-widgets/base",
          "model_name": "LayoutModel",
          "model_module_version": "1.2.0",
          "state": {
            "_model_module": "@jupyter-widgets/base",
            "_model_module_version": "1.2.0",
            "_model_name": "LayoutModel",
            "_view_count": null,
            "_view_module": "@jupyter-widgets/base",
            "_view_module_version": "1.2.0",
            "_view_name": "LayoutView",
            "align_content": null,
            "align_items": null,
            "align_self": null,
            "border": null,
            "bottom": null,
            "display": null,
            "flex": null,
            "flex_flow": null,
            "grid_area": null,
            "grid_auto_columns": null,
            "grid_auto_flow": null,
            "grid_auto_rows": null,
            "grid_column": null,
            "grid_gap": null,
            "grid_row": null,
            "grid_template_areas": null,
            "grid_template_columns": null,
            "grid_template_rows": null,
            "height": null,
            "justify_content": null,
            "justify_items": null,
            "left": null,
            "margin": null,
            "max_height": null,
            "max_width": null,
            "min_height": null,
            "min_width": null,
            "object_fit": null,
            "object_position": null,
            "order": null,
            "overflow": null,
            "overflow_x": null,
            "overflow_y": null,
            "padding": null,
            "right": null,
            "top": null,
            "visibility": null,
            "width": null
          }
        },
        "62fd6bb112ae4bea9914bf38c5852674": {
          "model_module": "@jupyter-widgets/controls",
          "model_name": "ProgressStyleModel",
          "model_module_version": "1.5.0",
          "state": {
            "_model_module": "@jupyter-widgets/controls",
            "_model_module_version": "1.5.0",
            "_model_name": "ProgressStyleModel",
            "_view_count": null,
            "_view_module": "@jupyter-widgets/base",
            "_view_module_version": "1.2.0",
            "_view_name": "StyleView",
            "bar_color": null,
            "description_width": ""
          }
        },
        "dcac9dd9f7b6455f896a6c1be87918f2": {
          "model_module": "@jupyter-widgets/base",
          "model_name": "LayoutModel",
          "model_module_version": "1.2.0",
          "state": {
            "_model_module": "@jupyter-widgets/base",
            "_model_module_version": "1.2.0",
            "_model_name": "LayoutModel",
            "_view_count": null,
            "_view_module": "@jupyter-widgets/base",
            "_view_module_version": "1.2.0",
            "_view_name": "LayoutView",
            "align_content": null,
            "align_items": null,
            "align_self": null,
            "border": null,
            "bottom": null,
            "display": null,
            "flex": null,
            "flex_flow": null,
            "grid_area": null,
            "grid_auto_columns": null,
            "grid_auto_flow": null,
            "grid_auto_rows": null,
            "grid_column": null,
            "grid_gap": null,
            "grid_row": null,
            "grid_template_areas": null,
            "grid_template_columns": null,
            "grid_template_rows": null,
            "height": null,
            "justify_content": null,
            "justify_items": null,
            "left": null,
            "margin": null,
            "max_height": null,
            "max_width": null,
            "min_height": null,
            "min_width": null,
            "object_fit": null,
            "object_position": null,
            "order": null,
            "overflow": null,
            "overflow_x": null,
            "overflow_y": null,
            "padding": null,
            "right": null,
            "top": null,
            "visibility": null,
            "width": null
          }
        },
        "9207df9de3724f0aa043ab63c8c976ba": {
          "model_module": "@jupyter-widgets/controls",
          "model_name": "DescriptionStyleModel",
          "model_module_version": "1.5.0",
          "state": {
            "_model_module": "@jupyter-widgets/controls",
            "_model_module_version": "1.5.0",
            "_model_name": "DescriptionStyleModel",
            "_view_count": null,
            "_view_module": "@jupyter-widgets/base",
            "_view_module_version": "1.2.0",
            "_view_name": "StyleView",
            "description_width": ""
          }
        }
      }
    }
  },
  "nbformat": 4,
  "nbformat_minor": 0
}